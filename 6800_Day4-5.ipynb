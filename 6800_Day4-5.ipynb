{
  "nbformat": 4,
  "nbformat_minor": 2,
  "metadata": {
    "colab": {
      "name": "6800_Day4-5",
      "provenance": [],
      "collapsed_sections": [],
      "include_colab_link": true
    },
    "kernelspec": {
      "name": "python3",
      "display_name": "Python 3"
    }
  },
  "cells": [
    {
      "cell_type": "markdown",
      "source": [
        "<a href=\"https://colab.research.google.com/github/agpo-ilr-uni-bonn/PromotionskollegModule6800_2021/blob/main/6800_Day4-5.ipynb\" target=\"_parent\"><img src=\"https://colab.research.google.com/assets/colab-badge.svg\" alt=\"Open In Colab\"/></a>"
      ],
      "metadata": {
        "id": "view-in-github",
        "colab_type": "text"
      }
    },
    {
      "cell_type": "markdown",
      "source": [
        "# Day 4-5: Code used during lecture and lab assignment\n"
      ],
      "metadata": {
        "id": "71QCGinKTAAf",
        "colab_type": "text"
      }
    },
    {
      "cell_type": "markdown",
      "source": [
        "## Instructions\r\n",
        "\r\n",
        "The notebook combines 'code used during lecture' with the corresponding lab assignment (see further down)\r\n",
        "Please add answers/discussion/comments to the notebook as comments or text box. Do not create another file in addition.\r\n",
        "When you are done with your assignment, save the notebook in drive and add your last name to the name of the file\r\n",
        "Upload your final notebook to https://uni-bonn.sciebo.de/s/fnkgjhNbKuAeI0K latest September 30th, 2020. The password for access is the same as before\r\n",
        "\r\n"
      ],
      "metadata": {
        "id": "MRwTIIF1s764",
        "colab_type": "text"
      }
    },
    {
      "cell_type": "markdown",
      "source": [
        "## Code used during lecture\n",
        "\n"
      ],
      "metadata": {
        "id": "UBjm-4D-Tg-L",
        "colab_type": "text"
      }
    },
    {
      "cell_type": "code",
      "execution_count": null,
      "source": [
        "import numpy as np\r\n",
        "import pandas as pd\r\n",
        "import scipy as sc\r\n",
        "from sklearn.linear_model import LinearRegression, Lasso\r\n",
        "from sklearn import linear_model"
      ],
      "outputs": [],
      "metadata": {
        "id": "f3ez9AQ5HaUN",
        "colab_type": "code",
        "colab": {}
      }
    },
    {
      "cell_type": "code",
      "execution_count": null,
      "source": [
        "# Set the numpy random seed\r\n",
        "np.random.seed(100)"
      ],
      "outputs": [],
      "metadata": {
        "id": "DO8K6AbHaROt",
        "colab_type": "code",
        "colab": {}
      }
    },
    {
      "cell_type": "markdown",
      "source": [
        "First generate simulated data for known DGP"
      ],
      "metadata": {
        "id": "VPoRqPZ8eM0k",
        "colab_type": "text"
      }
    },
    {
      "cell_type": "code",
      "execution_count": null,
      "source": [
        "# code for creating simulated data\r\n",
        "N = 10000\r\n",
        "K = 3\r\n",
        "sig = 0.3\r\n",
        "mean = np.random.randint(0,40,K)\r\n",
        "# TODO repalce with automatic option to allow for different K\r\n",
        "cov = np.array([[30,0,0],[0,5,0],[0,0,15]])\r\n",
        "mean"
      ],
      "outputs": [],
      "metadata": {
        "id": "iwzJukupeFFb",
        "colab_type": "code",
        "colab": {}
      }
    },
    {
      "cell_type": "code",
      "execution_count": null,
      "source": [
        "# create characteristics/explantory variables\r\n",
        "X = np.random.multivariate_normal(mean, cov,N)\r\n",
        "X.shape"
      ],
      "outputs": [],
      "metadata": {
        "id": "vWcJTDE3HkAH",
        "colab_type": "code",
        "colab": {}
      }
    },
    {
      "cell_type": "code",
      "execution_count": null,
      "source": [
        "# Check that cov is correct\r\n",
        "np.cov(X,rowvar=False)"
      ],
      "outputs": [],
      "metadata": {
        "id": "JSg6hRH6HnG1",
        "colab_type": "code",
        "colab": {}
      }
    },
    {
      "cell_type": "code",
      "execution_count": null,
      "source": [
        "# Add a constant to X\r\n",
        "Xc = np.concatenate([np.ones([N,1]),X],axis=1)\r\n",
        "# Get beta values\r\n",
        "beta = pd.DataFrame(np.random.randint(0, 20, (Xc.shape[1],1)),index=['const']+[f\"beta{i}\" for i in range(1,Xc.shape[1])],columns=['beta_true'])\r\n",
        "beta\r\n"
      ],
      "outputs": [],
      "metadata": {
        "id": "tsLE30gThHQ7",
        "colab_type": "code",
        "colab": {}
      }
    },
    {
      "cell_type": "code",
      "execution_count": null,
      "source": [
        "# create random white noise error\r\n",
        "errStd = 50\r\n",
        "err = np.random.normal(0, errStd, (N,1))\r\n",
        "\r\n",
        "# Create dependent variable y=Xb+e\r\n",
        "Y = np.matmul(Xc,beta.values)+err\r\n",
        "Y"
      ],
      "outputs": [],
      "metadata": {
        "id": "KR3RLFaeg3mH",
        "colab_type": "code",
        "colab": {}
      }
    },
    {
      "cell_type": "markdown",
      "source": [
        "Run LASSO on simulated data"
      ],
      "metadata": {
        "id": "1SUBJF0NgoDc",
        "colab_type": "text"
      }
    },
    {
      "cell_type": "markdown",
      "source": [
        "Compare to the true data generating process\n"
      ],
      "metadata": {
        "id": "eR3bOlMqgxez",
        "colab_type": "text"
      }
    },
    {
      "cell_type": "code",
      "execution_count": null,
      "source": [
        "# Estimate the model with Lasso \r\n",
        "# Check how alpha affects the estimation\r\n",
        "res = beta.transpose().copy()\r\n",
        "lstBetaCols = list(res.columns)\r\n",
        "\r\n",
        "lstAlpha = np.logspace(-5, 1, num = 10, base = 2)\r\n",
        "# Loop over a range of alpha value\r\n",
        "for alpha in lstAlpha:\r\n",
        "  # Estimate Lasso\r\n",
        "  modLasso = Lasso(normalize=True, fit_intercept=True, alpha=alpha)\r\n",
        "  modLasso.fit(X, Y[:,0])\r\n",
        "\r\n",
        "  # Add estimated coef to result dataframe\r\n",
        "  # Note, I rounded alpha in the variable name just to make it more readable\r\n",
        "  res.loc[f'beta_hat_alpha_{round(alpha,3)}','alpha'] = alpha\r\n",
        "  res.loc[f'beta_hat_alpha_{round(alpha,3)}','const'] = modLasso.intercept_\r\n",
        "  res.loc[f'beta_hat_alpha_{round(alpha,3)}',lstBetaCols[1:]] = modLasso.coef_.transpose()\r\n",
        "\r\n",
        "res"
      ],
      "outputs": [],
      "metadata": {
        "id": "Y3NL86L-62l5",
        "colab_type": "code",
        "colab": {}
      }
    },
    {
      "cell_type": "code",
      "execution_count": null,
      "source": [
        "# Plot the estimated coeficients across different levels of alpha\r\n",
        "\r\n",
        "import matplotlib.pyplot as plt\r\n",
        "fig, ax = plt.subplots();\r\n",
        "for strBeta in ['beta1','beta2','beta3']:\r\n",
        "  ax.plot(res['alpha'],res[strBeta],label=strBeta)\r\n",
        "\r\n",
        "ax.plot([10e5,0.031250],[0,0],color='black')\r\n",
        "ax.set_xscale('log')\r\n",
        "ax.set_xlabel('alpha (log scale)')\r\n",
        "ax.invert_xaxis()\r\n",
        "ax.set_xlim(1,0.031250)\r\n",
        "ax.spines[\"top\"].set_visible(False)\r\n",
        "ax.spines[\"right\"].set_visible(False)\r\n",
        "ax.legend();"
      ],
      "outputs": [],
      "metadata": {
        "id": "6aGJLIeLWBJO",
        "colab_type": "code",
        "colab": {}
      }
    },
    {
      "cell_type": "markdown",
      "source": [
        "Now add a additional variable that is correlated to one of the existing variables but does not have an effect on the dependent variable "
      ],
      "metadata": {
        "id": "yuc5bo9ha0cI",
        "colab_type": "text"
      }
    },
    {
      "cell_type": "code",
      "execution_count": null,
      "source": [
        "beta.values.squeeze()"
      ],
      "outputs": [],
      "metadata": {
        "id": "gw4K37xHLUGg",
        "colab_type": "code",
        "colab": {}
      }
    },
    {
      "cell_type": "code",
      "execution_count": null,
      "source": [
        "# Lasso Simulation example\r\n",
        "# 1) Create a variable (X4) that is linearly dependent with X3\r\n",
        "#    The strength of the relationship is governed by the parameter \"paramX4\"\r\n",
        "#    A white noise error term is added. X4 = paramX4 * X3 + err\r\n",
        "# 2) The error term is varied in a loop \r\n",
        "# 3) In each step X4 is created and the Lasso is estimated. Alpha in the \r\n",
        "#    Lasso estimation is automatically determined using LassoCV (best alpha\r\n",
        "#    selected by cross-validation). \r\n",
        "# 4) Results are saved given: \r\n",
        "#     - The correlation coef between X4 and X3\r\n",
        "#     - The estimated coef from Lasso\r\n",
        "#   => This allows to see the highest coerrelation coef for which Lasso can \r\n",
        "#     recover the true model\r\n",
        "\r\n",
        "\r\n",
        "from sklearn.linear_model import LassoCV\r\n",
        "\r\n",
        "res = pd.DataFrame(columns=['corrcoef','beta1','beta2','beta3','beta4'])\r\n",
        "res.loc['true_model',['beta1','beta2','beta3']] = beta.iloc[1:].values.squeeze()\r\n",
        "for errStdX4 in [0,1,2,3,4,5,7.5,10,15,20,25,30,45,50,55,100,200]:\r\n",
        "  paramX4 = 2 # This parameter specifies the strength of the relationship between \r\n",
        "              # X3 and X4\r\n",
        "  X4 = paramX4*X[:,[2]]+np.random.normal(0, errStdX4, (N,1))\r\n",
        "\r\n",
        "  XPlus4 = np.concatenate([X,X4],axis=1)\r\n",
        "\r\n",
        "  res.loc[f\"errStdX4_{errStdX4}\",'corrcoef'] = np.corrcoef(XPlus4[:,2],XPlus4[:,3])[0,1]\r\n",
        "  # print(XPlus4[1,:])\r\n",
        "\r\n",
        "  modLassoCV = LassoCV(cv=5,normalize=True,fit_intercept=True)\r\n",
        "  modLassoCV.fit(XPlus4,  Y[:,0])\r\n",
        "  coef = modLassoCV.coef_\r\n",
        "  res.loc[f\"errStdX4_{errStdX4}\",'alpha'] = modLassoCV.alpha_\r\n",
        "  res.loc[f\"errStdX4_{errStdX4}\",['beta1','beta2','beta3','beta4']] = coef\r\n",
        "res"
      ],
      "outputs": [],
      "metadata": {
        "id": "wQYemQhShcJr",
        "colab_type": "code",
        "colab": {}
      }
    },
    {
      "cell_type": "markdown",
      "source": [
        "# Lab 4a "
      ],
      "metadata": {
        "id": "IoA_xEY6rLjw",
        "colab_type": "text"
      }
    },
    {
      "cell_type": "markdown",
      "source": [
        "The first part of today's lab will have you see if you can recover the true DGP using a LASSO"
      ],
      "metadata": {
        "id": "faiHfDS04JDD",
        "colab_type": "text"
      }
    },
    {
      "cell_type": "markdown",
      "source": [
        "Task:\n",
        "\n",
        "- Below you will find a DGP similar to the one above\n",
        "- Try to determine the optimal alpha value in order to recover the \"best\" specification\n",
        "- Check if this \"best\" specification is close to the true DGP"
      ],
      "metadata": {
        "id": "lQ3JrmJXWWe1",
        "colab_type": "text"
      }
    },
    {
      "cell_type": "code",
      "execution_count": null,
      "source": [
        "# re-run the DGP code to get a different set of coefficients and data"
      ],
      "outputs": [],
      "metadata": {
        "id": "S70WWzurdjGT",
        "colab_type": "code",
        "colab": {}
      }
    },
    {
      "cell_type": "code",
      "execution_count": null,
      "source": [
        "from sklearn.datasets import make_spd_matrix"
      ],
      "outputs": [],
      "metadata": {
        "id": "FBsQBpNDH0XV",
        "colab_type": "code",
        "colab": {}
      }
    },
    {
      "cell_type": "code",
      "execution_count": null,
      "source": [
        "# Call the function to generate data\r\n",
        "\r\n",
        "# Set the random seed such that everybody gets the same dataset\r\n",
        "np.random.seed(11)\r\n",
        "# Get beta values\r\n",
        "K = 5\r\n",
        "errStd = 3\r\n",
        "beta = pd.DataFrame(np.random.randint(-5, 5, (K+1,1)),index=['const']+[f\"beta{i}\" for i in range(1,K+1)],columns=['beta_true'])\r\n",
        "print(beta)\r\n",
        "\r\n",
        "# Sklearn function to generate a random symmetric, positive-definite covariance matrix\r\n",
        "# https://scikit-learn.org/stable/modules/generated/sklearn.datasets.make_spd_matrix.html\r\n",
        "Xcov = make_spd_matrix(K)\r\n",
        "# Generate random mean for X variables \r\n",
        "Xmean = np.random.randint(-20,20,K)\r\n",
        "\r\n",
        "# create characteristics/explantory variables\r\n",
        "X = np.random.multivariate_normal(Xmean, Xcov,N)\r\n",
        "\r\n",
        "# Add a constant to X\r\n",
        "Xc = np.concatenate([np.ones([N,1]),X],axis=1)\r\n",
        "\r\n",
        "# create random white noise error\r\n",
        "err = np.random.normal(0, errStd, (N,1))\r\n",
        "\r\n",
        "# Create dependent variable y=Xb+e\r\n",
        "Y = np.matmul(Xc,beta.values)+err\r\n",
        "\r\n",
        "\r\n",
        "# errStdXnoiseA = 20\r\n",
        "# errStdXnoiseB = 30\r\n",
        "\r\n",
        "errStdXnoiseA = 2\r\n",
        "errStdXnoiseB = 2\r\n",
        "            \r\n",
        "# XnoiseA = 2*X[:,[1]]+2*X[:,[2]]+np.random.normal(0, errStdXnoiseA, (N,1))\r\n",
        "# XnoiseB = 2*X[:,[2]]+1*X[:,[4]]+np.random.normal(0, errStdXnoiseB, (N,1))\r\n",
        "XnoiseA = X[:,[1]]*X[:,[3]]*np.random.normal(0, errStdXnoiseA, (N,1))+np.random.normal(0, 1, (N,1))\r\n",
        "XnoiseB = X[:,[2]]*X[:,[4]]*np.random.normal(0, errStdXnoiseB, (N,1))+np.random.normal(0, 2, (N,1))\r\n",
        "\r\n",
        "XNoise = np.concatenate([X,XnoiseA, XnoiseB],axis=1)\r\n"
      ],
      "outputs": [],
      "metadata": {
        "id": "TPNXANYLuhEI",
        "colab_type": "code",
        "colab": {}
      }
    },
    {
      "cell_type": "code",
      "execution_count": null,
      "source": [
        "from sklearn.model_selection import train_test_split\r\n",
        "#  This randomly splits the data into 80% train and 20% test data\r\n",
        "X_train, X_test, Y_train, Y_test = train_test_split(XNoise, Y, test_size = 0.2)\r\n"
      ],
      "outputs": [],
      "metadata": {
        "id": "jBYrPexPMXFH",
        "colab_type": "code",
        "colab": {}
      }
    },
    {
      "cell_type": "code",
      "execution_count": null,
      "source": [
        "# ================================\r\n",
        "#  Task\r\n",
        "# ================================\r\n",
        "\r\n",
        "# Test several alpha values and check how this effects the R2 in the test set\r\n",
        "\r\n",
        "# Prepare dataframe to hold results (no need to change anything here)\r\n",
        "lstBeta = [f\"beta{k}\" for k in range(1,K+1)]\r\n",
        "res = pd.DataFrame(columns=lstBeta+['betaNoiseA','betaNoiseB'])\r\n",
        "res.loc['true_model',lstBeta] = beta.iloc[1:].values.squeeze()\r\n",
        "\r\n",
        "# This is the place to set alpha values that sould be tested\r\n",
        "lstAlpha = [...]\r\n",
        "\r\n",
        "for alpha in  lstAlpha:\r\n",
        "\r\n",
        "  # Specify the model you want to use\r\n",
        "  modLasso = ...\r\n",
        "  # Fit the model to data\r\n",
        "  modLasso. ...\r\n",
        "  \r\n",
        "  # Get the coeficients of the model\r\n",
        "  coef = \r\n",
        "\r\n",
        "  # Save results in list (no need to change anything here)\r\n",
        "  res.loc[f\"alpha_{alpha}\",lstBeta+['betaNoiseA','betaNoiseB']] = coef\r\n",
        "  res.loc[f\"alpha_{alpha}\",'alpha'] = alpha\r\n",
        "  res.loc[f\"alpha_{alpha}\",'R2_train'] = modLasso.score(X_train, Y_train[:,0])\r\n",
        "  res.loc[f\"alpha_{alpha}\",'R2_test'] = modLasso.score(X_test, Y_test[:,0])\r\n",
        "\r\n",
        "res\r\n"
      ],
      "outputs": [],
      "metadata": {
        "id": "CxjvSoJecW_F",
        "colab_type": "code",
        "colab": {}
      }
    },
    {
      "cell_type": "code",
      "execution_count": null,
      "source": [
        "# ================================\r\n",
        "#  Optional: Alternative approach using LassoCV \r\n",
        "# ================================\r\n",
        "# One alternative to setting the alphas manually is to use \r\n",
        "# CV this is implemented in LassoCV\r\n",
        "\r\n",
        "\r\n",
        "# TODO Try to implement a LassoCV estimation\r\n",
        "\r\n",
        "\r\n",
        "# Prepare a dataframe to hold results \r\n",
        "# (no need to change something here, as long as you call your model \"model\")\r\n",
        "print('Best Alpha: ', model.alpha_)\r\n",
        "lstBeta = [f\"beta{k}\" for k in range(1,K+1)]\r\n",
        "res = pd.DataFrame(columns=lstBeta+['betaNoiseA', 'betaNoiseB'])\r\n",
        "res.loc['true_model',lstBeta] = beta.iloc[1:].values.squeeze()\r\n",
        "res.loc['beta_hat',:] = model.coef_\r\n",
        "res\r\n",
        "# You can also check the example here:\r\n",
        "#  https://scikit-learn.org/stable/auto_examples/linear_model/plot_lasso_model_selection.html\r\n",
        "# And try to prepare similar plots"
      ],
      "outputs": [],
      "metadata": {
        "id": "HyTMoYPFd0BG",
        "colab_type": "code",
        "colab": {}
      }
    },
    {
      "cell_type": "markdown",
      "source": [
        "# Lab 4b"
      ],
      "metadata": {
        "id": "JZm0tXJ8DLDM",
        "colab_type": "text"
      }
    },
    {
      "cell_type": "markdown",
      "source": [
        "The objective of the second part of today's lab is to determine the effects of protected areas on forest cover. To do this, we take the following strategy:\r\n",
        "\r\n",
        "1) We estimate a model predicting forest cover where we use all of the observations that are not in a protected area. \r\n",
        "\r\n",
        "2) We use this model to predict forest cover for observations with protected areas observations. This gives as a prediction about the expected forest cover given the characteristics of the cell (such as slope, elevation).\r\n",
        "\r\n",
        "3) Using the predictions from 2) we compare the predicted forest cover with the actual forest cover. The difference between the two is the estimated effect of forest protected areas. \r\n",
        "\r\n",
        "=> Most of the steps for the estimation should be familiar from previous labs."
      ],
      "metadata": {
        "id": "czQzN5tNDZua",
        "colab_type": "text"
      }
    },
    {
      "cell_type": "code",
      "execution_count": null,
      "source": [
        "from sklearn.model_selection import train_test_split\r\n",
        "from sklearn.preprocessing import MinMaxScaler\r\n",
        "from sklearn.metrics import mean_squared_error, r2_score\r\n",
        "# import seaborn for visualization\r\n",
        "import seaborn as sns"
      ],
      "outputs": [],
      "metadata": {
        "id": "w9dV8MX8FRjV",
        "colab_type": "code",
        "colab": {}
      }
    },
    {
      "cell_type": "code",
      "execution_count": null,
      "source": [
        "# Download data for amazon AWS store (this should only take 10s independent \r\n",
        "# of your internet connection)\r\n",
        "!wget -nc https://ilr-ml-course.eu-central-1.linodeobjects.com/brazil_all_data_v2.gz"
      ],
      "outputs": [],
      "metadata": {
        "id": "urcpRQs9QFxO",
        "colab_type": "code",
        "colab": {}
      }
    },
    {
      "cell_type": "code",
      "execution_count": null,
      "source": [
        "# load data into dataframe\r\n",
        "df = pd.read_parquet('brazil_all_data_v2.gzip')"
      ],
      "outputs": [],
      "metadata": {}
    },
    {
      "cell_type": "code",
      "execution_count": null,
      "source": [
        "# Define target (dependent) variable (% forest cover for 2018)\r\n",
        "strY = 'perc_treecover'\r\n",
        "\r\n",
        "# Define a list of features names (explantory variables)\r\n",
        "lstX = [\r\n",
        "  # 'wdpa_2017', => Exclude protected areas \r\n",
        "  'population_2015',\r\n",
        "  'chirps_2017',\r\n",
        "  'maize',\r\n",
        "  'soy',\r\n",
        "  'sugarcane',\r\n",
        "  'perm_water',\r\n",
        "  'travel_min',\r\n",
        "  'cropland',\r\n",
        "  'mean_elev',\r\n",
        "  'sd_elev',\r\n",
        "  'near_road',\r\n",
        "  # 'wdpa_2017_lag_1st_order',\r\n",
        "  'chirps_2017_lag_1st_order',\r\n",
        "  'population_2015_lag_1st_order',\r\n",
        "  'maize_lag_1st_order',\r\n",
        "  'soy_lag_1st_order',\r\n",
        "  'sugarcane_lag_1st_order',\r\n",
        "  'perc_treecover_lag_1st_order',\r\n",
        "  'perm_water_lag_1st_order',\r\n",
        "  'travel_min_lag_1st_order',\r\n",
        "  'cropland_lag_1st_order',\r\n",
        "  'mean_elev_lag_1st_order',\r\n",
        "  'sd_elev_lag_1st_order',\r\n",
        "  'near_road_lag_1st_order',\r\n",
        " ]"
      ],
      "outputs": [],
      "metadata": {
        "id": "yxNVCmreJT9M",
        "colab_type": "code",
        "colab": {}
      }
    },
    {
      "cell_type": "code",
      "execution_count": null,
      "source": [
        "# Split that sample in those observations that ...\r\n",
        "#... are protected areas\r\n",
        "df_PA = df.loc[~(df['wdpa_2017']==0),:]\r\n",
        "\r\n",
        "#... are NOT protected areas\r\n",
        "df_NoPA = df.loc[df['wdpa_2017']==0,:]\r\n",
        "\r\n",
        "print('Number of observations without protected area', df_NoPA.shape[0])\r\n",
        "print('Number of observations with protected area', df_PA.shape[0])"
      ],
      "outputs": [],
      "metadata": {
        "id": "koS5lAM3I9m7",
        "colab_type": "code",
        "colab": {}
      }
    },
    {
      "cell_type": "code",
      "execution_count": null,
      "source": [
        "# Select the target variable \r\n",
        "# ... for the observations without protected areas \r\n",
        "Y_all_NoPA = df_NoPA[strY]\r\n",
        "# ... for the observations with protected areas \r\n",
        "Y_PA = df_PA[strY]\r\n",
        "\r\n",
        "# Get the features\r\n",
        "# ... for the observations without protected areas \r\n",
        "X_all_NoPA =  df_NoPA.loc[:,lstX]\r\n",
        "# ... for the observations wit protected areas \r\n",
        "X_PA_raw =  df_PA.loc[:,lstX]"
      ],
      "outputs": [],
      "metadata": {
        "id": "JgJR5As0FDgu",
        "colab_type": "code",
        "colab": {}
      }
    },
    {
      "cell_type": "markdown",
      "source": [
        "Choose a ML model and features to predict deforestation"
      ],
      "metadata": {
        "id": "9kH38Z7Ufk-I",
        "colab_type": "text"
      }
    },
    {
      "cell_type": "code",
      "execution_count": null,
      "source": [
        "# Split the data into train and test using only the the observations \r\n",
        "# without protected areas\r\n",
        "X_train_raw, X_test_raw, Y_train, Y_test = train_test_split(X_all_NoPA, Y_all_NoPA, test_size = 0.2)"
      ],
      "outputs": [],
      "metadata": {
        "id": "ePR5RYQ9ftsL",
        "colab_type": "code",
        "colab": {}
      }
    },
    {
      "cell_type": "code",
      "execution_count": null,
      "source": [
        "\r\n",
        "# Scale data to 0-1 range using sklearn MinMaxScalar object \r\n",
        "# (see: https://scikit-learn.org/stable/modules/generated/sklearn.preprocessing.MinMaxScaler.html) \r\n",
        "scaler = MinMaxScaler()\r\n",
        "# Use only the train data to fit the MinMaxScalar \r\n",
        "scaler.fit(X_train_raw)\r\n",
        "\r\n",
        "# Apply the MinMax transformation to the train and test data \r\n",
        "X_train = scaler.transform(X_train_raw)\r\n",
        "X_test = scaler.transform(X_test_raw)\r\n"
      ],
      "outputs": [],
      "metadata": {
        "id": "BcujfVW9E_kb",
        "colab_type": "code",
        "colab": {}
      }
    },
    {
      "cell_type": "code",
      "execution_count": null,
      "source": [
        "# Define a function to print model stats\r\n",
        "def printModStats(mod,X_train, Y_train,X_test, Y_test, showPlot=True):\r\n",
        "  # Inspect the model performancefor those observations that are\r\n",
        "  # not protected areas\r\n",
        "  print('Score in train', mod.score(X_train, Y_train))\r\n",
        "  print('Score in test', mod.score(X_test, Y_test))\r\n",
        "\r\n",
        "  # Get predicted values for the test set\r\n",
        "  Y_test_had_Tree = mod.predict(X_test)\r\n",
        "\r\n",
        "  # Calculate MSE in test set\r\n",
        "  mse_ols_sklearn  = mean_squared_error(Y_test,Y_test_had_Tree)\r\n",
        "  print('\\nMean squared error: ',mse_ols_sklearn)\r\n",
        "  # The coefficient of determination: 1 is perfect prediction\r\n",
        "  R2_ols_sklearn = r2_score(Y_test,Y_test_had_Tree)\r\n",
        "  print('Coefficient of determination: ',R2_ols_sklearn)\r\n",
        "\r\n",
        "  if showPlot:\r\n",
        "    # plot Y vs Y-hat\r\n",
        "    h = sns.jointplot(Y_test_had_Tree, Y_test, kind=\"hex\")\r\n",
        "    h.set_axis_labels('Y predicted', 'Y true');\r\n",
        "\r\n"
      ],
      "outputs": [],
      "metadata": {
        "id": "a-IGittsEV46",
        "colab_type": "code",
        "colab": {}
      }
    },
    {
      "cell_type": "code",
      "execution_count": null,
      "source": [
        "# Run XGBoost. In contrast to day 2 we now use XGBRegressor as our task is \r\n",
        "# a regression task and not a classification task\r\n",
        "import xgboost as xgb\r\n",
        "model_xgb = xgb.XGBRegressor(objective=\"reg:squarederror\", random_state=42)\r\n",
        "model_xgb.fit(X_train, Y_train)\r\n"
      ],
      "outputs": [],
      "metadata": {
        "id": "8HKK5AhGf6eI",
        "colab_type": "code",
        "colab": {}
      }
    },
    {
      "cell_type": "code",
      "execution_count": null,
      "source": [
        "printModStats(model_xgb,X_train, Y_train,X_test, Y_test, showPlot=True)"
      ],
      "outputs": [],
      "metadata": {
        "id": "dqIcCCsKEmX_",
        "colab_type": "code",
        "colab": {}
      }
    },
    {
      "cell_type": "markdown",
      "source": [
        "Now we use the trained model to make predictions for those areas with protected areas"
      ],
      "metadata": {
        "id": "dSLkW7g224nj",
        "colab_type": "text"
      }
    },
    {
      "cell_type": "code",
      "execution_count": null,
      "source": [
        "# First we need to scale the data for those observations without \r\n",
        "# protected areas\r\n",
        "X_PA = scaler.transform(X_PA_raw)"
      ],
      "outputs": [],
      "metadata": {
        "id": "LW40wwuk6joa",
        "colab_type": "code",
        "colab": {}
      }
    },
    {
      "cell_type": "code",
      "execution_count": null,
      "source": [
        "# Lets define a function for our conterfactual that can be reused below \r\n",
        "def calculateConterfactual(mod,X_PA):\r\n",
        "  # Then use the train model to make predictions for protected areas\r\n",
        "  Y_PA_had = mod.predict(X_PA)\r\n",
        "\r\n",
        "  # Now we can compare the mean forest cover in protected area that we observer\r\n",
        "  print(f'Predicted mean forest cover in protected Areas {np.mean(Y_PA_had):0.2f} %' )\r\n",
        "  print(f'Actual mean forest cover in protected Areas {np.mean(Y_PA):0.2f} %', )\r\n",
        "  print(f'Mean difference between predicted and observed forest cover: {np.mean(Y_PA-Y_PA_had):0.2f} pp')\r\n"
      ],
      "outputs": [],
      "metadata": {
        "id": "u_wtagGgJwmN",
        "colab_type": "code",
        "colab": {}
      }
    },
    {
      "cell_type": "code",
      "execution_count": null,
      "source": [
        "# Call function for our xgb model \r\n",
        "calculateConterfactual(model_xgb,X_PA)"
      ],
      "outputs": [],
      "metadata": {
        "id": "Djf7N-zj7M37",
        "colab_type": "code",
        "colab": {}
      }
    },
    {
      "cell_type": "code",
      "execution_count": null,
      "source": [
        "# ================================\r\n",
        "#  Task\r\n",
        "# ================================\r\n",
        "\r\n",
        "# Until now we have always used the default hyperparameters for XGBoost\r\n",
        "# Lets see if we can improve model performance by optimizing some of those.\r\n",
        "# Usually this is a rather complex and time consuming task with many \r\n",
        "# different ways to approach this. Here we only try to optimize two paramters\r\n",
        "# manually. Specifically we want to optimize \"max_depth\" (Typical values: 3-10) \r\n",
        "# and \"min_child_weight\" (Typical values: 1-5).\r\n",
        "\r\n",
        "# Hint: The caculation is quite time consuming. Coordinate in your team \r\n",
        "#       to try as many combination as possible.\r\n",
        "\r\n",
        "# In case you are interested you can find a complete guide for doing \r\n",
        "# hyperparameter optimization for XGB here: \r\n",
        "# https://www.analyticsvidhya.com/blog/2016/03/complete-guide-parameter-tuning-xgboost-with-codes-python/\r\n",
        "# This is NOT required for this task here, just to give you an idea of how\r\n",
        "# many paramter can be optimized (Note, this referes to an older sklearn version, \r\n",
        "# therefore some of the code might need to be adjusted) \r\n",
        "\r\n",
        "# Specify model with \"max_depth\" and \"min_child_weight\" set explicitly\r\n",
        "model_xgb_opt = ...\r\n",
        "\r\n",
        "# Fit model to train data \r\n",
        "model_xgb_opt....\r\n",
        "\r\n",
        "# Print stats\r\n",
        "printModStats(model_xgb_opt,X_train, Y_train,X_test, Y_test, showPlot=True)\r\n",
        "\r\n",
        "# Do conterfactual \r\n",
        "calculateConterfactual(model_xgb_opt,X_PA)"
      ],
      "outputs": [],
      "metadata": {
        "id": "9pxCQ8okFsQU",
        "colab_type": "code",
        "colab": {}
      }
    },
    {
      "cell_type": "code",
      "execution_count": null,
      "source": [
        "# ================================\n",
        "#  Optional Task\n",
        "# ================================\n",
        "\n",
        "# Try alternative ML models and check how they perform compared to XGBoost. \n",
        "# If you are using sklearn you often only have to replace one line in oder to \n",
        "# change your model. LightGBM for example is an alterantive to XGBoost that \n",
        "# gained popularity.  \n",
        "# https://lightgbm.readthedocs.io/en/latest/pythonapi/lightgbm.LGBMRegressor.html#lightgbm.LGBMRegressor.  "
      ],
      "outputs": [],
      "metadata": {
        "id": "wsNLu-jzHKOk",
        "colab_type": "code",
        "colab": {}
      }
    },
    {
      "cell_type": "markdown",
      "source": [
        "## Alternative approach \n",
        "\n",
        "- Train a model with \"protected areas\" included \n",
        "- Select only the protected areas (in the test set)\n",
        "- make a prediction for those areas for forest cover\n",
        "- make a prediction for those areas for forest cover where we set the explanatory variable for \"protected areas\" equal to zero i.e. we make a prediction for forest cover under the assumption that those areas where not protected"
      ],
      "metadata": {
        "id": "y0v6H7tP8Oq8",
        "colab_type": "text"
      }
    },
    {
      "cell_type": "code",
      "execution_count": null,
      "source": [
        "# Define binary variable for deforestration in 2018\n",
        "\n",
        "Y_all = df['perc_treecover']\n",
        "# Define a list of features names (explantory variables)\n",
        "lstX = [\n",
        "   'wdpa_2017', \n",
        "  'population_2015',\n",
        "  'chirps_2017',\n",
        "  'maize',\n",
        "  'soy',\n",
        "  'sugarcane',\n",
        "  'perm_water',\n",
        "  'travel_min',\n",
        "  'cropland',\n",
        "  'mean_elev',\n",
        "  'sd_elev',\n",
        "  'near_road',\n",
        "  'wdpa_2017_lag_1st_order',\n",
        "  'chirps_2017_lag_1st_order',\n",
        "  'population_2015_lag_1st_order',\n",
        "  'maize_lag_1st_order',\n",
        "  'soy_lag_1st_order',\n",
        "  'sugarcane_lag_1st_order',\n",
        "  'perc_treecover_lag_1st_order',\n",
        "  'perm_water_lag_1st_order',\n",
        "  'travel_min_lag_1st_order',\n",
        "  'cropland_lag_1st_order',\n",
        "  'mean_elev_lag_1st_order',\n",
        "  'sd_elev_lag_1st_order',\n",
        "  'near_road_lag_1st_order',\n",
        " ]\n",
        "\n",
        "# Get the explanatory Variables\n",
        "X_all =  df.loc[:,lstX]"
      ],
      "outputs": [],
      "metadata": {
        "id": "lyIRMR3X4xCk",
        "colab_type": "code",
        "colab": {}
      }
    },
    {
      "cell_type": "code",
      "execution_count": null,
      "source": [
        "\n",
        "\n",
        "# Split the data into train and test using only the the observations \n",
        "# with protected areas\n",
        "\n",
        "# Use only the train data to fit the MinMaxScalar \n",
        "\n",
        "\n",
        "# Apply the MinMax transformation to the train and test data \n"
      ],
      "outputs": [],
      "metadata": {
        "id": "X1KM91dB5pwy",
        "colab_type": "code",
        "colab": {}
      }
    },
    {
      "cell_type": "code",
      "execution_count": null,
      "source": [
        "# train...\n"
      ],
      "outputs": [],
      "metadata": {
        "id": "42uzaA5-5xMQ",
        "colab_type": "code",
        "colab": {}
      }
    },
    {
      "cell_type": "code",
      "execution_count": null,
      "source": [
        "# Get only those observations which are protected areas\n"
      ],
      "outputs": [],
      "metadata": {
        "id": "ZDyt913g8F5-",
        "colab_type": "code",
        "colab": {}
      }
    },
    {
      "cell_type": "code",
      "execution_count": null,
      "source": [
        "# do prediction for these as if they were not protected areas\n"
      ],
      "outputs": [],
      "metadata": {
        "id": "B6wk-utf9AwZ",
        "colab_type": "code",
        "colab": {}
      }
    },
    {
      "cell_type": "code",
      "execution_count": null,
      "source": [],
      "outputs": [],
      "metadata": {
        "id": "OAeCcDPG8iJZ",
        "colab_type": "code",
        "colab": {}
      }
    },
    {
      "cell_type": "code",
      "execution_count": null,
      "source": [
        "# And compare with the case they are protected\n",
        "\n"
      ],
      "outputs": [],
      "metadata": {
        "id": "chjqTO7h81qp",
        "colab_type": "code",
        "colab": {}
      }
    },
    {
      "cell_type": "code",
      "execution_count": null,
      "source": [
        "\n",
        "# Now we can compare the mean forest cover in protected area that we observer\n",
        "\n"
      ],
      "outputs": [],
      "metadata": {
        "id": "6kMcZPeZ_s5i",
        "colab_type": "code",
        "colab": {}
      }
    },
    {
      "cell_type": "code",
      "execution_count": null,
      "source": [
        "# => Discuss pro and cons of the two approaches"
      ],
      "outputs": [],
      "metadata": {
        "id": "9JNWwRkK9lRV",
        "colab_type": "code",
        "colab": {}
      }
    }
  ]
}
